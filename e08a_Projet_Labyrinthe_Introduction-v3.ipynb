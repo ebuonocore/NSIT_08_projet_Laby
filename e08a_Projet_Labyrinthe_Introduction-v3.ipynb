{
 "cells": [
  {
   "cell_type": "markdown",
   "metadata": {},
   "source": [
    "<div style=\"width:100%;border-collapse:separate;border:solid 2px;border-radius:14px;\">\n",
    "    <div style=\"display:flex;\">\n",
    "        <div style=\"display:inline;width:5%;\"></div>\n",
    "        <div style=\"display:inline;width:15%;\">NSIT</div>\n",
    "        <div style=\"display:inline;width:15%;\">e08a</div>\n",
    "        <div style=\"display:inline;width:70%;text-align:right;\"><b>Projet</b></div>\n",
    "        <div style=\"display:inline;width:5%;\"></div>\n",
    "    </div>\n",
    "    <div  style=\"display: flex;background-color:#EEE\">\n",
    "        <p style=\"width:100%;text-align:center;\">Labyrinthe</p>\n",
    "    </div>\n",
    "    <div  style=\"display: flex;\">\n",
    "        <p style=\"width:100%;text-align:center;\">Description du projet et méthode</p>\n",
    "    </div>\n",
    "</div>"
   ]
  },
  {
   "cell_type": "markdown",
   "metadata": {},
   "source": [
    "<div class = \"alert alert-success\">\n",
    "    \n",
    "**Objectifs de la séquence:** \n",
    "- Les différentes étapes de la gestion d'un projet informatique\n",
    "- Partir des spécifications imposées pour réaliser un module d'une solution informatique  \n",
    "- Participer à un projet d'équipe  \n",
    "- Comparer les performances de deux algorithmes pour trouver les solutions à un labyrinthe"
   ]
  },
  {
   "cell_type": "markdown",
   "metadata": {},
   "source": [
    "<div class = \"alert alert-info\">\n",
    "    \n",
    "**Sommaire :**\n",
    "\n",
    "<a href=#gestion>Gestion de projet</a>   \n",
    "1. <a href=#besoins>Expression des besoins</a>   \n",
    "2. <a href=#analyse>Analyse</a>  \n",
    "3. <a href=#conception>Conception</a>   \n",
    "4. <a href=#tests>Tests et intégration</a>   \n",
    "5. <a href=#recette>Recette</a>   \n",
    "6. <a href=#mise_en_service>Mise en service</a>   \n",
    "7. <a href=#maintenance>Maintenance</a>   \n",
    "\n",
    "</div>"
   ]
  },
  {
   "cell_type": "markdown",
   "metadata": {},
   "source": [
    "![Idees_Noires_de_Franquin_La_planete_labyrinthe](https://github.com/ebuonocore/NSIT_08_projet_Laby/blob/main/sources/Idees_Noires_de_Franquin_La_planete_labyrinthe.png?raw=true)  \n",
    "<span style=\"font-family:Comic Sans MS; color:gray; font-size: x-small;float:right \">Idees Noires de Franquin: La planete labyrinthe. Tiré du site: <a href =\"http://coustoon.com/boutique/fr/plaques-emaillees-serigraphiees/27-idees-noires-franquin-delporte-plaque-emaillee-labyrinthe.html\">coustoon.com</a></span> \n",
    "\n",
    "<div id=\"gestion\"></div>\n",
    "\n",
    "## Gestion de projet\n",
    "\n",
    "Le suivi de notre projet s'inspirera principalement du modèle en **cascade**:\n",
    "\n",
    "1. Expression des besoins\n",
    "2. Analyse\n",
    "3. Conception / Implémentation\n",
    "4. Tests  et intégration\n",
    "5. Recette\n",
    "6. Mise en service  \n",
    "7. Maintenance\n",
    "\n",
    "L'objectif premier n'est pas de maîtriser le modèle en cascade. Il nous sert surtout de cadre pour mener à bien le projet.  \n",
    "Nous allons prendre des libertés avec ce modèle: Nous allons nous autoriser à redéfinir les objectifs en cours de route.  \n",
    "Il existe d'autres méthodes  pour gérer les projets informatiques comme celles du '**Cycle en V**',la méthode'**Agile**', '**Scrum**' par exemple, ou des hybridations entre ces différentes approches.  \n",
    "Vous pouvez les découvrir à travers les liens ci-dessous:  \n",
    "\n",
    "- <a href=\"https://fr.wikipedia.org/wiki/Gestion_de_projet\">Wikipédia (Gestion_de_projet)</a>\n",
    "- <a href=\"https://www.appvizer.fr/magazine/operations/gestion-de-projet/gestion-projet-informatique\">appvizer.fr</a>\n"
   ]
  },
  {
   "cell_type": "markdown",
   "metadata": {},
   "source": [
    "<div id=\"besoins\"></div>\n",
    "\n",
    "## 1.Expression des besoins\n",
    "\n",
    "Dans cette étape, nous allons préciser les objectifs généraux de notre  projet, les délais, lister les exigences à respecter.  \n",
    "\n",
    "<div class = \"alert alert-success\">\n",
    "<b>Objectif général</b><br> \n",
    "Nous souhaitons générer des labyrinthes de tailles variables.<br>  \n",
    "Etant précisés l'entrée et la sortie du labyrinthe, nous souhaitons proposer des solutions.<br>  \n",
    "La résolution de ces labyrinthes, c.à.d. la recherche d'une sortie, s’appuiera sur les parcours en largeur ou en profondeur d’un graphe.\n",
    "</div>\n",
    "\n",
    "**Note:** Le terme de *chemin* désigne généralement une succession de sommets. \n",
    "Par exemple [0, 4, 5, 6, 7, 11]  \n",
    "Nous parlerons d’*itinéraire* pour désigner une succession d’arêtes (ou d’arcs). Par exemple [(0,4), (4, 5), (5, 6), (6, 7), (7, 11)]  \n",
    "![exemple_graphe_1](https://github.com/ebuonocore/NSIT_08_projet_Laby/blob/main/sources/graphe_02.png?raw=true)"
   ]
  },
  {
   "cell_type": "markdown",
   "metadata": {},
   "source": [
    "**Planning :**  \n",
    "Nous nous donnons une semaine de cours pour atteindre notre objectif. \n",
    "- Cours 1 (2h): Présentation + premier travail en équipe. Doit se terminer par une répartition des tâches\n",
    "- Travail personnel ou collaboratif à la maison\n",
    "- Cours 2 (1h) : Revue de projet : Mise en commun des expériences et réorientation des objectifs si nécessaire.\n",
    "- Travail personnel ou collaboratif à la maison\n",
    "- Cours 3 (1h) : Revue de projet : Mise en commun des expériences et réorientation des objectifs si nécessaire.\n",
    "- Travail personnel ou collaboratif à la maison\n",
    "- Cours 4 (2h) :Restitution des travaux. Mise en commun des codes (Intégration) et tests.\n"
   ]
  },
  {
   "cell_type": "markdown",
   "metadata": {},
   "source": [
    "**Découpage du projet Laby**  \n",
    "La classe est divisée en équipe.  \n",
    "Chaque équipe doit réaliser le même projet.  \n",
    "Au sein de votre  équipe, vous prenez en charge une des parties ci-dessous:  \n",
    "<u>A. Créer un labyrinthe :</u>  \n",
    "Produit un labyrinthe au format d’un Graphe NetworkX \n",
    "\n",
    "<u>B. Résoudre par parcours en profondeur :</u>  \n",
    "Génère l’itinéraire permettant de relier le sommet de début au sommet de fin en utilisant le parcours en profondeur\n",
    "\n",
    "<u>C. Résoudre par parcours en largeur :</u>  \n",
    "Génère l’itinéraire permettant de relier le sommet de début au sommet de fin en utilisant le parcours en largeur\n",
    "\n",
    "<u>D. Afficher le labyrinthe :</u>  \n",
    "Produit une représentation graphique du labyrinthe (et des solutions calculées  en amont)\n",
    "\n",
    "![puzzle_modules](https://github.com/ebuonocore/NSIT_08_projet_Laby/blob/main/sources/puzzle_modules_02.png?raw=true)  \n",
    "<span style=\"font-family:Comic Sans MS; color:gray; font-size: x-small;float:right \">Source: D'après <a href =\"https://www.educol.net/image-puzzle-i29056.html\">educol.net</a></span> "
   ]
  },
  {
   "cell_type": "markdown",
   "metadata": {},
   "source": [
    "Dans un premier temps, on peut imaginer que l'intégration finale pourrait ressembler à celà:  \n",
    "un fichier *labrinthe1.py* importe chacun des modules créé par une équipe, résoud le labyrinthe généré aléatoirement et affiche le résultat."
   ]
  },
  {
   "cell_type": "code",
   "execution_count": null,
   "metadata": {},
   "outputs": [],
   "source": [
    "# Importation de tous les modules créés par les différents groupes\n",
    "from creation_laby import *\n",
    "from recherche_dfs import *\n",
    "from recherche_bds import *\n",
    "from affichage_laby import *\n",
    "\n",
    "# Définition des paramètres du labyrinthe (dimensions)\n",
    "nombre_colonnes = 8\n",
    "nombre_lignes = 6\n",
    "\n",
    "# Génération du labyrinthe\n",
    "laby = creer_labyrinthe (nombre_colonnes, nombre_lignes, 40)\n",
    "\n",
    "# Résolution selon les deux algorithmes de parcours de graphe\n",
    "itineraire1 = chercher_dfs(laby)\n",
    "itineraire2 = chercher_bfs(laby)\n",
    "\n",
    "# Affichage du résultat\n",
    "afficher_labyrinthe(laby, nombre_colonnes, nombre_lignes , itineraire1, itineraire2)"
   ]
  },
  {
   "cell_type": "markdown",
   "metadata": {},
   "source": [
    "Par défaut, l'entrée sera désignée par le tout premier sommet: Celui qui aura les coordonnées <code>(0, 0)</code>.  \n",
    "Pour un labyrinthe de **nb_lignes** lignes et **nb_colonnes** colonnes, l'arrivée se situera, par défaut, au sommet de coordonnées <code>( nb_lignes-1, nb_colonnes-1)</code>."
   ]
  },
  {
   "cell_type": "markdown",
   "metadata": {},
   "source": [
    "<div id=\"analyse\"></div>\n",
    "\n",
    "## 2. Analyse\n",
    "\n",
    "Cette partie va permettre de préciser le cahier des charges, les spécifications, de chacune des parties du projet.  \n",
    "Nous en profiterons pour détailler le cahier de tests: une série de tests que chaque partie doit bien réaliser si elle est bien codée.\n",
    "\n",
    "<u><b>A. Création d’un labyrinthe</b></u>  \n",
    "**Nom du module :** creation_laby (fichier *creation_laby.py*)  \n",
    "**Fonction :** creer_labyrinthe()  \n",
    "**Format des paramètres :** nombre de lignes, nombre de colonnes[, coefficient de dégénération]  \n",
    "Commentaire: le coefficient de dégénération peut ne pas être renseigné.  \n",
    "**Entrées :**  nombre de lignes, nombre de colonnes et coefficient de dégénération sont des entiers.  \n",
    "coefficient de dégénération correspond au pourcentage d’arêtes qui seront détruites.  \n",
    "**Sortie :** Graphe NetworkX (Représentation du labyrinthe)  \n",
    "**Postcondition :** Le labyrinthe créé doit être connexe. Sinon, la recherche de sortie va planter!  "
   ]
  },
  {
   "cell_type": "code",
   "execution_count": null,
   "metadata": {},
   "outputs": [],
   "source": [
    "# Cahier de tests (à exécuter dans le main du module):\n",
    "Laby = creer_labyrinthe(8, 7, 60)\n",
    "print(Laby.nodes())  # Affiche les nœuds du labyrinthes\n",
    "print(Laby.edges()) # Affiche les arêtes du labyrinthe\n",
    "print(nx.is_connected(Laby)) # Affiche True si le labyrinthe est connexe"
   ]
  },
  {
   "cell_type": "markdown",
   "metadata": {},
   "source": [
    "<u><b>B. Recherche de la solution selon le parcours en profondeur</b></u>  \n",
    "**Nom du module :** recherche_dfs (fichier *recherche_dfs.py*)  \n",
    "**Fonction :** chercher_dfs()  \n",
    "**Format des paramètres :** Graphe [, coordonnées de l’entrée , coordonnées de la sortie]  \n",
    "Commentaire: Si les coordonnées de l'entrée et de la sortie ne sont pas renseignés, on prend les sommets par défaut.  \n",
    "**Entrées :** Graphe est un Graphe NetworkX  \n",
    "**Sortie :** Itinéraire (une liste d’arêtes)  \n",
    "**Préconditions :** Les coordonnées de l’entrée et de la sortie désignent des sommets qui sont dans le graphe. Le labyrinthe est connexe."
   ]
  },
  {
   "cell_type": "code",
   "execution_count": null,
   "metadata": {},
   "outputs": [],
   "source": [
    "# Cahier de tests (à exécuter dans le main du module): On donne un graphe test nommé Laby\n",
    "itineraire = chercher_dfs(Laby)\n",
    "# Affiche un itinéraire reliant le point de coordonnées (0,0) au point (nb_colonnes-1, nb_lignes-1)\n",
    "print(itineraire)\n",
    "# Affiche un itinéraire reliant le point de coordonnées (2,2) au point (6, 5) pour un labyrinthe 8*7\n",
    "itineraire = chercher_dfs(Laby, 18, 53) \n",
    "# Remarque: identifiant du sommet (2, 2) dans un labyrinthe 8*7 = 2*8 + 2 = 18\n",
    "# Identifiant du sommet (6, 5) dans un labyrinthe 8*7 = 6*8 + 5 = 53"
   ]
  },
  {
   "cell_type": "markdown",
   "metadata": {},
   "source": [
    "<u><b>C. Recherche de la solution selon le parcours en largeur</u></b>  \n",
    "**Nom du module :** recherche_bfs (fichier *recherche_bfs.py*)   \n",
    "**Nom de la fonction :** chercher_bfs()  \n",
    "**Format des paramètres :** Graphe [, coordonnées de l’entrée, coordonnées de la sortie]  \n",
    "Commentaire: Si les coordonnées de l'entrée et de la sortie ne sont pas renseignés, on prend les sommets par défaut.  \n",
    "**Entrées :** Graphe est un Graphe NetworkX  \n",
    "**Sortie :** Itinéraire  (une liste d’arêtes)  \n",
    "**Préconditions :** Les coordonnées de l’entrée et de la sortie désignent des sommets qui sont dans le graphe. Le labyrinthe est connexe."
   ]
  },
  {
   "cell_type": "code",
   "execution_count": null,
   "metadata": {},
   "outputs": [],
   "source": [
    "# Cahier de tests (à exécuter dans le main du module): On donne un graphe test nommé Laby\n",
    "itineraire = chercher_bfs(Laby)\n",
    "# Affiche un itinéraire reliant le point de coordonnées (0,0) au point (nb_colonnes-1, nb_lignes-1)\n",
    "print(itineraire)\n",
    "# Affiche un itinéraire reliant le point de coordonnées (2,2) au point (6, 5) pour un labyrinthe 8*7\n",
    "itineraire = chercher_bfs(Laby, 18, 53) \n",
    "# Remarque: identifiant du sommet (2, 2) dans un labyrinthe 8*7 = 2*8 + 2 = 18\n",
    "# Identifiant du sommet (6, 5) dans un labyrinthe 8*7 = 6*8 + 5 = 53"
   ]
  },
  {
   "cell_type": "markdown",
   "metadata": {},
   "source": [
    "<u><b>D. Affichage du labyrinthe</u></b>  \n",
    "**Nom du module :** affichage_laby (fichier *affichage_laby.py*)  \n",
    "**Fonction :** afficher_labyrinthe()    \n",
    "**Format des paramètres :** Graphe , nombre_colonnes, nombre_lignes, [, itineraire1 [, itineraire2]]  \n",
    "Commentaire: itinéraire1 et itinneraire2 sont des paramètres optionnels: Si ils ne sont pas renseignés, on ne dessine que le labyrinthe.  \n",
    "**Entrées :** Graphe est un Graphe NetworkX  \n",
    "nombre_colonnes, nombre_lignes sont des entiers  \n",
    "itineraire1 et itineraire2 sont des itineraires solutions à tracer en couleur.  \n",
    "**Sortie :** Graphique  \n",
    "**Précondition :** Les itinéraires font référence à des arêtes qui sont inclus dans le Graphe  "
   ]
  },
  {
   "cell_type": "code",
   "execution_count": null,
   "metadata": {},
   "outputs": [],
   "source": [
    "# Cahier de tests (à exécuter dans le  main du module): On donne un graphe Laby et deux itineraires\n",
    "afficher_labyrinthe(Laby, 8, 7) # Affiche le graphe\n",
    "afficher_labyrinthe(Laby, 8, 7, itineraire1) # Affiche le graphe et l’itineraire1 en couleur\n",
    "# Affiche le graphe, l’itineraire1 en couleur et l’itineraire2 dans une autre couleur\n",
    "afficher_labyrinthe(Laby, 8, 7, itineraire1, itineraire2)"
   ]
  },
  {
   "cell_type": "markdown",
   "metadata": {},
   "source": [
    "<div id=\"conception\"></div>\n",
    "\n",
    "## 3. Conception\n",
    "\n",
    "Récupérez ci-dessous les informations qui concernent votre partie du projet.  \n",
    "\n",
    "<u><b>A. Création d’un labyrinthe</u></b>  \n",
    "**Objectif 1 :** Créer un graphe de (nb_lignes * nb_colonnes) sommets.  \n",
    "Créer les arêtes entre les sommets voisins.  \n",
    "Le paramètre 'taux de dégradation' représente le pourcentage des arêtes à détruire aléatoirement.  \n",
    "**Quelques petites difficultés à prévoir:**   \n",
    "- Réaliser des boucles imbriquées pour créer tous les nœuds.  \n",
    "- Ajouter des arêtes (2 par nœud créé : vers la gauche et vers la ligne précédente)  \n",
    "- Nommer les nœuds : identifiant = numéro du nœud en commençant par 0  \n",
    "- Réaliser une boucles while pour détruire les arêtes : Tester si l’arête existe avant de la détruire  \n",
    "\n",
    "**Amélioration 1:** Vérifier que le graphe est connexe. (Sinon on recommence la génération du labyrinthe)  \n",
    "**Amélioration 2:** Suppression des arêtes selon l’un des algorithme proposé sur la page wikipedia pour créer un labyrinthe parfait  \n",
    "**Amélioration 3:** Dégrader ensuite le labyrinthe parfait pour créer des cycles (labyrinthe imparfait)"
   ]
  },
  {
   "cell_type": "markdown",
   "metadata": {},
   "source": [
    "<u><b>B. Recherche de la solution selon le parcours en profondeur :</b></u> <a href=\"https://github.com/ebuonocore/NSIT_08_projet_Laby/blob/main/sources/algo_DFS\">algo_DFS</a> (autres sources:<a href=\"https://isn-icn-ljm.pagesperso-orange.fr/NSI-TLE/co/section_chapitre4.html\">source1</a> <a href=\"https://marcarea.com/weblog/2019/02/17/parcours-de-graphes-en-python\">source2</a>)  \n",
    "**Objectif 1 :** Parcourir l’ensemble du graphe selon l’algorithme du parcours en profondeur pour lister tous les sommets depuis le sommet source.  \n",
    "**Quelques petites difficultés à prévoir:**     \n",
    "- Marquer un sommet : Le plus simple dans notre problème consiste à tenir une liste des sommets visités.  \n",
    "- Utilisez l’implémentation d’une pile proposée :  Lire le code proposé pour retrouver l’interface.  \n",
    "\n",
    "**Amélioration 1:** Le parcours s’arrête sur le sommet de destination (mais la liste des sommets visités comprend des sommets superflus).  \n",
    "**Amélioration 2:**  Renvoie l'itinéraire (la liste des arêtes) parcourues selon l’algorithme dfs  \n",
    "**Amélioration 3:**  Remonte depuis le sommet de destination vers le sommet de départ pour ne conserver que l’itinéraire le plus court.  \n",
    "**Amélioration 4:**  Proposer une version récursive du parcours en largeur et renvoyer l’itinéraire le plus court."
   ]
  },
  {
   "cell_type": "markdown",
   "metadata": {},
   "source": [
    "<u><b>C. Recherche de la solution selon le parcours en largeur:</b></u> <a href=\"https://github.com/ebuonocore/NSIT_08_projet_Laby/blob/main/sources/algo_BFS\">algo_BFS</a> (autres sources:<a href=\"https://isn-icn-ljm.pagesperso-orange.fr/NSI-TLE/co/section_chapitre4.html\">source1</a> <a href=\"https://marcarea.com/weblog/2019/02/17/parcours-de-graphes-en-python\">source2</a>)  \n",
    "**Objectif 1 :** Parcourir l’ensemble de graphe selon l’algorithme du parcours en largeur pour lister tous les sommets depuis le sommet source.  \n",
    "**Quelques petites difficultés à prévoir:**   \n",
    "- Marquer un sommet : Le plus simple dans notre problème consiste à tenir une liste des sommets visités.  \n",
    "- Utilisez l’implémentation d’une file proposée : Lire le code proposé pour retrouver l’interface.   \n",
    "\n",
    "**Amélioration 1:** Le parcours s’arrête sur le sommet de destination (mais la liste des sommets visités comprend des sommets superflus).  \n",
    "**Amélioration 2:**  Renvoie l'itinéraire (la liste des arêtes) parcourues selon l’algorithme  bfs  \n",
    "**Amélioration 3:**  Remonte depuis le sommet de destination vers le sommet de départ pour ne conserver que l’itinéraire le plus court.  \n",
    "**Amélioration 4:**  Proposer une version récursive du parcours en largeur et renvoyer l’itinéraire le plus court."
   ]
  },
  {
   "cell_type": "markdown",
   "metadata": {},
   "source": [
    "<u><b>D. Affichage du labyrinthe</b></u>  \n",
    "**Objectif 1 :** Afficher juste le graphe avec les arêtes. Sans fixer les positions des sommets,   ne pas chercher à afficher les itinéraires dans un premier temps.  \n",
    "**Quelques pistes:**   \n",
    "\n",
    "- Import de matplotlib (revoir la fiche e06c)  \n",
    "- Il faut ajouter plt.show() à la fin du programme pour créer la fenêtre du graphe  \n",
    "\n",
    "**Amélioration 1 :** Organiser les sommets : Construction du dictionnaire de position à passer en argument du nx.draw()  \n",
    "Modifier la couleur des arêtes en fonction des itinéraires passés en arguments: source  \n",
    "**Amélioration 2:**  Problème : Pour  itinerire1 et itinerire2, on ne peut pas colorier les arêtes du même graphe. itinerire1 devient illisible. Jouer sur la transparence et l’épaisseur des arêtes.  \n",
    "**Autre solution :** reconstruire  le chemin2 (la liste des sommets) à partir de l’itineraie2 (liste des arêtes) pour colorier cette fois les sommets et non les arêtes.  \n",
    "**Amélioration 3:** Créer une procédure d’affichage en utilisant Tkinter."
   ]
  },
  {
   "cell_type": "markdown",
   "metadata": {},
   "source": [
    "<div id=\"tests\"></div>\n",
    "\n",
    "## 4. Tests et intégration\n",
    "\n"
   ]
  },
  {
   "cell_type": "markdown",
   "metadata": {},
   "source": [
    "Si votre partie est bien codée, les tests programmés dans le main doivent renvoyer les résultats attendus.  \n",
    "\n",
    "Enregistrez tous les fichiers de votre groupe dans le même répertoire avec les fichiers *labyrinthe1.py* et *labyrinthe2.py*.  \n",
    "\n",
    "L'exécution du programme *labyrinthe1.py* doit créer un labyrinthe, trouver les itinéraires correspondants aux deux algorithmes (dfs et bfs) puis afficher les résultats."
   ]
  },
  {
   "cell_type": "code",
   "execution_count": null,
   "metadata": {},
   "outputs": [],
   "source": [
    "# Importation de tous les modules créés par les différents groupes\n",
    "from creation_laby import *\n",
    "from recherche_dfs import *\n",
    "from recherche_bfs import *\n",
    "from affichage_laby import *\n",
    "\n",
    "# Définition des paramètres du labyrinthe (dimensions)\n",
    "nombre_colonnes = 8\n",
    "nombre_lignes = 6\n",
    "\n",
    "# Génération du labyrinthe\n",
    "laby = creer_labyrinthe (nombre_colonnes, nombre_lignes, 40)\n",
    "\n",
    "# Résolution selon les deux algorithmes de parcours de graphe\n",
    "itineraire1 = chercher_dfs(laby)\n",
    "itineraire2 = chercher_bfs(laby)\n",
    "\n",
    "# Affichage du résultat\n",
    "afficher_labyrinthe(laby, nombre_colonnes, nombre_lignes , itineraire1, itineraire2)"
   ]
  },
  {
   "cell_type": "markdown",
   "metadata": {},
   "source": [
    "L'exécution du programme *labyrinthe2.py* fait la même chose mais il permet de préciser les cases de départ et d'arrivée."
   ]
  },
  {
   "cell_type": "code",
   "execution_count": null,
   "metadata": {},
   "outputs": [],
   "source": [
    "# Importation de tous les modules créés par les différents groupes\n",
    "from creation_laby import *\n",
    "from recherche_dfs import *\n",
    "from recherche_bfs import *\n",
    "from affichage_laby import *\n",
    "\n",
    "# Définition des paramètres du labyrinthe (dimensions)\n",
    "nombre_colonnes = 14\n",
    "nombre_lignes = 10\n",
    "\n",
    "# Génération du labyrinthe. Remarque: Le sommet de coordonnées (0,0) a pour indice 0.\n",
    "coordonnees_depart = 30 # Identifiant du sommet de coordonnées (1,1)\n",
    "coordonnees_arrivee = 109 # Identifiant du sommet de coordonnées (13,9)\n",
    "\n",
    "laby = creer_labyrinthe (nombre_colonnes, nombre_lignes, 40)\n",
    "\n",
    "# Résolution selon les deux algorithmes de parcours de graphe\n",
    "itineraire1 = chercher_dfs(laby,coordonnees_depart, coordonnees_arrivee)\n",
    "itineraire2 = chercher_bfs(laby,coordonnees_depart, coordonnees_arrivee)\n",
    "\n",
    "# Affichage du résultat\n",
    "afficher_labyrinthe(laby, nombre_colonnes, nombre_lignes , itineraire1, itineraire2)"
   ]
  },
  {
   "cell_type": "markdown",
   "metadata": {},
   "source": [
    "Mais c'est un peu môche de devoir modifier les paramères (dimensions) du labyrinthe dans le code... il serait préférable de les passer en paramètes lors de l'appel du programme.  \n",
    "Ecrivez le programme *labyrinthe3.py* pour qu'il puisse récupérer les paramètres à la fin de la ligne de commande.  \n",
    "Exemple: Ci dessous, l'appel de *labyrinthe3.py* avec paramètes 24 pour le nombre de colonnes et 18 pour les lignes."
   ]
  },
  {
   "cell_type": "code",
   "execution_count": null,
   "metadata": {},
   "outputs": [],
   "source": [
    "labyrinthe3.py 24 18"
   ]
  },
  {
   "cell_type": "markdown",
   "metadata": {},
   "source": [
    "Aide sur l'utilisation de <a href=\"https://www.tutorialspoint.com/python/python_command_line_arguments.htm\">sys.argv</a>"
   ]
  },
  {
   "cell_type": "markdown",
   "metadata": {},
   "source": [
    "<div id=\"recette\"></div>\n",
    "\n",
    "## 5. Recette\n",
    "\n",
    "**Définiton:** Validation par le client de la conformité des livrables par rapport au cahier des charges initial.  \n",
    "\n",
    "C'est au tour de votre enseignant de jouer le rôle de l'utilisateur final (le client) et de vérifier si votre résultat est conforme au cahier des charges initial.\n",
    "\n",
    "Pour aller plus loin sur cette notion clé du projet, je vous invite à parcourir ce <a href=\"http://www.test-recette.fr/recette/definitions.html\">site</a>."
   ]
  },
  {
   "cell_type": "markdown",
   "metadata": {},
   "source": [
    "<div id=\"mise_en_service\"></div>\n",
    "\n",
    "## 6. Mise en service\n",
    "\n"
   ]
  },
  {
   "cell_type": "markdown",
   "metadata": {},
   "source": [
    "Pendant son \"cycle de vie\" votre produit va être un peu maltraité par les utilisateurs.  \n",
    "Mais de votre côté, avez-vous prévu tous les stress possibles?\n",
    "Que se passe-t-il si on paramètre la création de labyrinthe avec des dimensions nulles ou négatives?"
   ]
  },
  {
   "cell_type": "markdown",
   "metadata": {},
   "source": [
    "<div id=\"maintenance\"></div>\n",
    "\n",
    "## 7. Maintenance\n",
    "\n",
    "Bon, nous ne devrions pas être trop embêtés dans cette phase. Mais rien ne nous empêche de traquer les éventuels bogues ou évolution possible du projet...\n"
   ]
  },
  {
   "cell_type": "markdown",
   "metadata": {},
   "source": [
    "---\n",
    "<p style=\"font-family:Comic Sans MS; text-align: center; color:gray; font-size: x-small; \">- Eric Buonocore. Octobre 2020 -<br></p>\n",
    "\n",
    "![Licence CC BY NC SA](https://licensebuttons.net/l/by-nc-sa/3.0/88x31.png)"
   ]
  }
 ],
 "metadata": {
  "kernelspec": {
   "display_name": "Python 3",
   "language": "python",
   "name": "python3"
  },
  "language_info": {
   "codemirror_mode": {
    "name": "ipython",
    "version": 3
   },
   "file_extension": ".py",
   "mimetype": "text/x-python",
   "name": "python",
   "nbconvert_exporter": "python",
   "pygments_lexer": "ipython3",
   "version": "3.7.6"
  }
 },
 "nbformat": 4,
 "nbformat_minor": 4
}
